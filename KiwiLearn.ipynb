{
 "cells": [
  {
   "cell_type": "code",
   "execution_count": 2,
   "id": "022b5730-e389-4ae0-bd0e-0f3d99890e38",
   "metadata": {},
   "outputs": [
    {
     "ename": "ModuleNotFoundError",
     "evalue": "No module named 'pandas'",
     "output_type": "error",
     "traceback": [
      "\u001b[0;31m---------------------------------------------------------------------------\u001b[0m",
      "\u001b[0;31mModuleNotFoundError\u001b[0m                       Traceback (most recent call last)",
      "Cell \u001b[0;32mIn[2], line 2\u001b[0m\n\u001b[1;32m      1\u001b[0m \u001b[38;5;66;03m# Step 1: Import Necessary Libraries\u001b[39;00m\n\u001b[0;32m----> 2\u001b[0m \u001b[38;5;28;01mimport\u001b[39;00m \u001b[38;5;21;01mpandas\u001b[39;00m \u001b[38;5;28;01mas\u001b[39;00m \u001b[38;5;21;01mpd\u001b[39;00m\n\u001b[1;32m      3\u001b[0m \u001b[38;5;28;01mimport\u001b[39;00m \u001b[38;5;21;01mnumpy\u001b[39;00m \u001b[38;5;28;01mas\u001b[39;00m \u001b[38;5;21;01mnp\u001b[39;00m\n\u001b[1;32m      4\u001b[0m \u001b[38;5;28;01mimport\u001b[39;00m \u001b[38;5;21;01mmatplotlib\u001b[39;00m\u001b[38;5;21;01m.\u001b[39;00m\u001b[38;5;21;01mpyplot\u001b[39;00m \u001b[38;5;28;01mas\u001b[39;00m \u001b[38;5;21;01mplt\u001b[39;00m\n",
      "\u001b[0;31mModuleNotFoundError\u001b[0m: No module named 'pandas'"
     ]
    }
   ],
   "source": [
    "# Step 1: Import Necessary Libraries\n",
    "import pandas as pd\n",
    "import numpy as np\n",
    "import matplotlib.pyplot as plt\n",
    "import seaborn as sns\n",
    "\n",
    "# Configure visualization styles\n",
    "sns.set(style=\"whitegrid\")\n",
    "\n",
    "# Step 2: Load the Dataset\n",
    "df = pd.read_csv('Employee_Performance-1.csv')\n",
    "\n",
    "# Display the first few rows to understand the structure of the dataset\n",
    "print(\"First few rows of the dataset:\")\n",
    "print(df.head())\n",
    "\n",
    "# Step 3: Data Cleaning - Handle Missing Values\n",
    "# Check for missing values\n",
    "print(\"\\nMissing values in the dataset:\")\n",
    "print(df.isnull().sum())\n",
    "\n",
    "# Handling missing values by filling with median (or dropping based on context)\n",
    "df.fillna(df.median(), inplace=True)\n",
    "\n",
    "# Step 4: Data Cleaning - Handle Duplicates\n",
    "# Check for duplicate rows\n",
    "print(\"\\nNumber of duplicate rows in the dataset:\")\n",
    "print(df.duplicated().sum())\n",
    "\n",
    "# Remove duplicate rows if they exist\n",
    "df.drop_duplicates(inplace=True)\n",
    "\n",
    "# Step 5: Data Cleaning - Handle Outliers\n",
    "# Using IQR to identify and remove outliers in 'Experience' and 'PerformanceRating'\n",
    "Q1 = df[['Experience', 'PerformanceRating']].quantile(0.25)\n",
    "Q3 = df[['Experience', 'PerformanceRating']].quantile(0.75)\n",
    "IQR = Q3 - Q1\n",
    "\n",
    "# Filter out outliers\n",
    "df = df[~((df < (Q1 - 1.5 * IQR)) | (df > (Q3 + 1.5 * IQR))).any(axis=1)]\n",
    "\n",
    "print(\"\\nData after cleaning:\")\n",
    "print(df.describe())\n",
    "\n",
    "# Step 6: Summary Statistics\n",
    "# Generate summary statistics for numerical columns\n",
    "print(\"\\nSummary Statistics:\")\n",
    "print(df.describe())\n",
    "\n",
    "# Step 7: Data Distribution Visualization\n",
    "# Distribution of Performance Ratings\n",
    "plt.figure(figsize=(10, 6))\n",
    "sns.histplot(df['PerformanceRating'], kde=True)\n",
    "plt.title('Distribution of Performance Ratings')\n",
    "plt.xlabel('Performance Rating')\n",
    "plt.ylabel('Frequency')\n",
    "plt.show()\n",
    "\n",
    "# Box Plot for Performance Ratings across Departments\n",
    "plt.figure(figsize=(12, 6))\n",
    "sns.boxplot(x='Department', y='PerformanceRating', data=df)\n",
    "plt.title('Performance Ratings by Department')\n",
    "plt.xlabel('Department')\n",
    "plt.ylabel('Performance Rating')\n",
    "plt.xticks(rotation=45)\n",
    "plt.show()\n",
    "\n",
    "# Count of Employees by Department\n",
    "plt.figure(figsize=(12, 6))\n",
    "sns.countplot(x='Department', data=df)\n",
    "plt.title('Count of Employees by Department')\n",
    "plt.xlabel('Department')\n",
    "plt.ylabel('Count')\n",
    "plt.xticks(rotation=45)\n",
    "plt.show()\n"
   ]
  }
 ],
 "metadata": {
  "kernelspec": {
   "display_name": "Python 3.12.6 64-bit",
   "language": "python",
   "name": "python3"
  },
  "language_info": {
   "codemirror_mode": {
    "name": "ipython",
    "version": 3
   },
   "file_extension": ".py",
   "mimetype": "text/x-python",
   "name": "python",
   "nbconvert_exporter": "python",
   "pygments_lexer": "ipython3",
   "version": "3.12.6"
  },
  "vscode": {
   "interpreter": {
    "hash": "aee8b7b246df8f9039afb4144a1f6fd8d2ca17a180786b69acc140d282b71a49"
   }
  }
 },
 "nbformat": 4,
 "nbformat_minor": 5
}
